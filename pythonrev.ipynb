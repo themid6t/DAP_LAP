{
  "nbformat": 4,
  "nbformat_minor": 0,
  "metadata": {
    "colab": {
      "provenance": [],
      "toc_visible": true
    },
    "kernelspec": {
      "name": "python3",
      "display_name": "Python 3"
    },
    "language_info": {
      "name": "python"
    }
  },
  "cells": [
    {
      "cell_type": "markdown",
      "source": [
        "# Basic Programs\n",
        "\n"
      ],
      "metadata": {
        "id": "KOlk1N8Msppu"
      }
    },
    {
      "cell_type": "code",
      "source": [
        "# 1. Python program to add two numbers\n",
        "print(1 + 2)"
      ],
      "metadata": {
        "colab": {
          "base_uri": "https://localhost:8080/"
        },
        "id": "5zX-y7IGtQcf",
        "outputId": "030dea8b-4199-4e68-9117-207f294411b2"
      },
      "execution_count": null,
      "outputs": [
        {
          "output_type": "stream",
          "name": "stdout",
          "text": [
            "3\n"
          ]
        }
      ]
    },
    {
      "cell_type": "code",
      "source": [
        "# 2. Maximum of two numbers in Python\n",
        "#Program to find maximum of two numbers.\n",
        "def find_maximum(num1, num2):\n",
        "    if num1 > num2:\n",
        "        return num1\n",
        "    else:\n",
        "        return num2\n",
        "\n",
        "number1 = float(input(\"Enter the first number: \"))\n",
        "number2 = float(input(\"Enter the second number: \"))\n",
        "\n",
        "maximum_number = find_maximum(number1, number2)\n",
        "print(f\"The maximum of {number1} and {number2} is: {maximum_number}\")\n"
      ],
      "metadata": {
        "id": "NEbrduW1uA6u",
        "colab": {
          "base_uri": "https://localhost:8080/"
        },
        "outputId": "8a383888-7644-4a64-b748-47c3777fa012"
      },
      "execution_count": null,
      "outputs": [
        {
          "output_type": "stream",
          "name": "stdout",
          "text": [
            "Enter the first number: 12\n",
            "Enter the second number: 11\n",
            "The maximum of 12.0 and 11.0 is: 12.0\n"
          ]
        }
      ]
    },
    {
      "cell_type": "code",
      "source": [
        "# 3. Python Program for factorial of a number\n",
        "#Python program to find factorial of a number.\n",
        "def factorial(n):\n",
        "    if n < 0:\n",
        "        return \"Factorial is not defined for negative numbers.\"\n",
        "\n",
        "    result = 1\n",
        "    for i in range(1, n + 1):\n",
        "        result *= i\n",
        "    return result\n",
        "\n",
        "# Example usage:\n",
        "number = int(input(\"Enter a number to find its factorial: \"))\n",
        "\n",
        "result = factorial(number)\n",
        "print(f\"The factorial of {number} is: {result}\")\n",
        "\n",
        "\n"
      ],
      "metadata": {
        "id": "LSnixM4buFl1",
        "colab": {
          "base_uri": "https://localhost:8080/"
        },
        "outputId": "8e48d12c-99cb-4a77-beb4-06218392f371"
      },
      "execution_count": null,
      "outputs": [
        {
          "output_type": "stream",
          "name": "stdout",
          "text": [
            "Enter a number to find its factorial: 24\n",
            "The factorial of 24 is: 620448401733239439360000\n"
          ]
        }
      ]
    },
    {
      "cell_type": "code",
      "source": [
        "# 4.\tPython Program for simple interest\n",
        "#Python program to find simple interest?\n",
        "def calculate_simple_interest(principal, rate, time):\n",
        "    # Simple Interest formula: SI = P * R * T / 100\n",
        "    simple_interest = (principal * rate * time) / 100\n",
        "    return simple_interest\n",
        "\n",
        "# Example usage:\n",
        "principal_amount = float(input(\"Enter the principal amount: \"))\n",
        "interest_rate = float(input(\"Enter the interest rate (in percentage): \"))\n",
        "time_period = float(input(\"Enter the time period (in years): \"))\n",
        "\n",
        "simple_interest_result = calculate_simple_interest(principal_amount, interest_rate, time_period)\n",
        "\n",
        "print(f\"The simple interest for principal ${principal_amount}, interest rate {interest_rate}%, and time {time_period} years is: ${simple_interest_result}\")\n"
      ],
      "metadata": {
        "id": "cNuulNfIuMNF",
        "colab": {
          "base_uri": "https://localhost:8080/"
        },
        "outputId": "0ffd03e3-5d3e-44d6-b146-47f103a7098c"
      },
      "execution_count": null,
      "outputs": [
        {
          "output_type": "stream",
          "name": "stdout",
          "text": [
            "Enter the principal amount: 20000\n",
            "Enter the interest rate (in percentage): 12\n",
            "Enter the time period (in years): 4\n",
            "The simple interest for principal $20000.0, interest rate 12.0%, and time 4.0 years is: $9600.0\n"
          ]
        }
      ]
    },
    {
      "cell_type": "code",
      "source": [
        "# 5.\tPython Program for compound interest\n",
        "#Python Program for compound interest?\n",
        "def calculate_compound_interest(principal, rate, time, compounding_frequency):\n",
        "    # Compound Interest formula: A = P * (1 + r/n)^(nt) - P\n",
        "    n = compounding_frequency\n",
        "    compound_interest = principal * (1 + rate / (n * 100))**(n * time) - principal\n",
        "    return compound_interest\n",
        "\n",
        "# Example usage:\n",
        "principal_amount = float(input(\"Enter the principal amount: \"))\n",
        "interest_rate = float(input(\"Enter the interest rate (in percentage): \"))\n",
        "time_period = float(input(\"Enter the time period (in years): \"))\n",
        "compounding_frequency = int(input(\"Enter the compounding frequency per year: \"))\n",
        "\n",
        "compound_interest_result = calculate_compound_interest(principal_amount, interest_rate, time_period, compounding_frequency)\n",
        "\n",
        "print(f\"The compound interest for principal ${principal_amount}, interest rate {interest_rate}%, time {time_period} years, and compounding frequency {compounding_frequency} times per year is: ${compound_interest_result}\")\n"
      ],
      "metadata": {
        "id": "niVxTmX3uiXk",
        "colab": {
          "base_uri": "https://localhost:8080/"
        },
        "outputId": "c97bc92c-06e5-4c83-a24e-3f0d83e6f349"
      },
      "execution_count": null,
      "outputs": [
        {
          "output_type": "stream",
          "name": "stdout",
          "text": [
            "Enter the principal amount: 2000\n",
            "Enter the interest rate (in percentage): 13\n",
            "Enter the time period (in years): 2\n",
            "Enter the compounding frequency per year: 24\n",
            "The compound interest for principal $2000.0, interest rate 13.0%, time 2.0 years, and compounding frequency 24 times per year is: $592.0408708270134\n"
          ]
        }
      ]
    },
    {
      "cell_type": "code",
      "source": [
        "# 6.\tPython Program to check Armstrong Number\n",
        "#Python Program to check Armstrong Number?\n",
        "def is_armstrong_number(number):\n",
        "    # Convert the number to a string to find the number of digits\n",
        "    num_str = str(number)\n",
        "    num_digits = len(num_str)\n",
        "\n",
        "    # Calculate the sum of each digit raised to the power of the number of digits\n",
        "    armstrong_sum = sum(int(digit) ** num_digits for digit in num_str)\n",
        "\n",
        "    # Check if the sum is equal to the original number\n",
        "    return armstrong_sum == number\n",
        "\n",
        "# Example usage:\n",
        "input_number = int(input(\"Enter a number to check if it's an Armstrong number: \"))\n",
        "\n",
        "if is_armstrong_number(input_number):\n",
        "    print(f\"{input_number} is an Armstrong number.\")\n",
        "else:\n",
        "    print(f\"{input_number} is not an Armstrong number.\")\n"
      ],
      "metadata": {
        "id": "D0wPWsC2u-ak"
      },
      "execution_count": null,
      "outputs": []
    },
    {
      "cell_type": "code",
      "source": [
        "# 7.\tPython Program for Program to find area of a circle\n",
        "#Python Program  to find area of a circle?\n",
        "import math\n",
        "\n",
        "def calculate_circle_area(radius):\n",
        "    # Area of a circle formula: A = π * r^2\n",
        "    area = math.pi * radius**2\n",
        "    return area\n",
        "\n",
        "# Example usage:\n",
        "radius = float(input(\"Enter the radius of the circle: \"))\n",
        "\n",
        "circle_area = calculate_circle_area(radius)\n",
        "\n",
        "print(f\"The area of the circle with radius {radius} is: {circle_area}\")\n",
        "\n"
      ],
      "metadata": {
        "id": "VfZAfSBJvMcs"
      },
      "execution_count": null,
      "outputs": []
    },
    {
      "cell_type": "code",
      "source": [
        "# 8.\tPython program to print all Prime numbers in an Interval\n",
        "#Python program to print all Prime numbers in an Interval?\n",
        "def is_prime(num):\n",
        "    if num < 2:\n",
        "        return False\n",
        "    for i in range(2, int(num**0.5) + 1):\n",
        "        if num % i == 0:\n",
        "            return False\n",
        "    return True\n",
        "\n",
        "def print_primes_in_interval(start, end):\n",
        "    print(f\"Prime numbers in the interval [{start}, {end}]:\")\n",
        "    for number in range(start, end + 1):\n",
        "        if is_prime(number):\n",
        "            print(number)\n",
        "\n",
        "# Example usage:\n",
        "start_interval = int(input(\"Enter the start of the interval: \"))\n",
        "end_interval = int(input(\"Enter the end of the interval: \"))\n",
        "\n",
        "print_primes_in_interval(start_interval, end_interval)\n"
      ],
      "metadata": {
        "id": "1MeQ3ARzvOLk"
      },
      "execution_count": null,
      "outputs": []
    },
    {
      "cell_type": "code",
      "source": [
        "# 9.\tPython program to check whether a number is Prime or not\n",
        "#Python program to check whether a number is Prime or not?\n",
        "def is_prime(number):\n",
        "    if number <= 1:\n",
        "        return False\n",
        "    for i in range(2, int(number**0.5) + 1):\n",
        "        if number % i == 0:\n",
        "            return False\n",
        "    return True\n",
        "\n",
        "# Get input from the user\n",
        "num = int(input(\"Enter a number: \"))\n",
        "\n",
        "# Check if the number is prime\n",
        "if is_prime(num):\n",
        "    print(f\"{num} is a prime number.\")\n",
        "else:\n",
        "    print(f\"{num} is not a prime number.\")\n",
        "\n"
      ],
      "metadata": {
        "id": "q7GOjEL3vPc9"
      },
      "execution_count": null,
      "outputs": []
    },
    {
      "cell_type": "code",
      "source": [
        "# 10.\tPython Program for n-th Fibonacci number\n",
        "#Python Program for n-th Fibonacci number?\n",
        "def fibonacci(n):\n",
        "    fib = [0] * (n + 1)\n",
        "    fib[1] = 1\n",
        "\n",
        "    for i in range(2, n + 1):\n",
        "        fib[i] = fib[i - 1] + fib[i - 2]\n",
        "\n",
        "    return fib[n]\n",
        "\n",
        "# Get input from the user\n",
        "n = int(input(\"Enter the value of n: \"))\n",
        "\n",
        "# Check for valid input\n",
        "if n < 0:\n",
        "    print(\"Please enter a non-negative integer.\")\n",
        "else:\n",
        "    result = fibonacci(n)\n",
        "    print(f\"The {n}-th Fibonacci number is: {result}\")\n"
      ],
      "metadata": {
        "id": "wxsCtaWSvQ3E"
      },
      "execution_count": null,
      "outputs": []
    },
    {
      "cell_type": "code",
      "source": [
        "# 11.\tPython Program for How to check if a given number is Fibonacci number?\n",
        "#Python Program for How to check if a given number is Fibonacci number?\n",
        "import math\n",
        "\n",
        "def is_perfect_square(num):\n",
        "    sqrt_num = int(math.sqrt(num))\n",
        "    return sqrt_num * sqrt_num == num\n",
        "\n",
        "def is_fibonacci(number):\n",
        "    if number < 0:\n",
        "        return False\n",
        "\n",
        "    # Check if 5n^2 + 4 or 5n^2 - 4 is a perfect square\n",
        "    return is_perfect_square(5 * number * number + 4) or is_perfect_square(5 * number * number - 4)\n",
        "\n",
        "# Get input from the user\n",
        "num = int(input(\"Enter a number: \"))\n",
        "\n",
        "# Check if the number is a Fibonacci number\n",
        "if is_fibonacci(num):\n",
        "    print(f\"{num} is a Fibonacci number.\")\n",
        "else:\n",
        "    print(f\"{num} is not a Fibonacci number.\")\n"
      ],
      "metadata": {
        "id": "RfwwER1NvR2N"
      },
      "execution_count": null,
      "outputs": []
    },
    {
      "cell_type": "code",
      "source": [
        "# 12.\tPython Program for n\\’th multiple of a number in Fibonacci Series\n",
        "#Python Program for n\\’th multiple of a number in Fibonacci Series?\n",
        "def fibonacci_multiple(n, multiple_of):\n",
        "    fib = [0, 1]\n",
        "\n",
        "    while len(fib) < n:\n",
        "        next_fib = fib[-1] + fib[-2]\n",
        "        fib.append(next_fib)\n",
        "\n",
        "        if next_fib % multiple_of == 0:\n",
        "            n -= 1\n",
        "\n",
        "    return fib[-1]\n",
        "\n",
        "# Get input from the user\n",
        "n = int(input(\"Enter the value of n: \"))\n",
        "multiple_of = int(input(\"Enter the number to find its multiple in Fibonacci series: \"))\n",
        "\n",
        "# Check for valid input\n",
        "if n <= 0 or multiple_of <= 0:\n",
        "    print(\"Please enter positive integers for n and the number.\")\n",
        "else:\n",
        "    result = fibonacci_multiple(n, multiple_of)\n",
        "    print(f\"The {n}-th multiple of {multiple_of} in the Fibonacci series is: {result}\")\n"
      ],
      "metadata": {
        "id": "M1VKCA6EvS18"
      },
      "execution_count": null,
      "outputs": []
    },
    {
      "cell_type": "code",
      "source": [
        "# 13.\tProgram to print ASCII Value of a character\n",
        "#Program to print ASCII Value of a character?\n",
        "# Get input from the user\n",
        "char = input(\"Enter a character: \")\n",
        "\n",
        "# Check if the input is a single character\n",
        "if len(char) == 1:\n",
        "    # Find and print the ASCII value\n",
        "    ascii_value = ord(char)\n",
        "    print(f\"The ASCII value of '{char}' is: {ascii_value}\")\n",
        "else:\n",
        "    print(\"Please enter a single character.\")\n"
      ],
      "metadata": {
        "id": "JF-AyT3VvUWk"
      },
      "execution_count": null,
      "outputs": []
    },
    {
      "cell_type": "code",
      "source": [
        "# 14.\tPython Program for Sum of squares of first n natural numbers\n",
        "#Python Program for Sum of squares of first n natural numbers\n",
        "def sum_of_squares(n):\n",
        "    return (n * (n + 1) * (2 * n + 1)) // 6\n",
        "\n",
        "# Get input from the user\n",
        "n = int(input(\"Enter the value of n: \"))\n",
        "\n",
        "# Check for valid input\n",
        "if n < 1:\n",
        "    print(\"Please enter a positive integer.\")\n",
        "else:\n",
        "    result = sum_of_squares(n)\n",
        "    print(f\"The sum of the squares of the first {n} natural numbers is: {result}\")\n"
      ],
      "metadata": {
        "id": "-KQ-QJwzvVXs"
      },
      "execution_count": null,
      "outputs": []
    },
    {
      "cell_type": "code",
      "source": [
        "\n",
        "# 15.\tPython Program for cube sum of first n natural numbers\n",
        "#Python Program for cube sum of first n natural numbers\n",
        "def cube_sum(n):\n",
        "    return sum(i**3 for i in range(1, n + 1))\n",
        "\n",
        "# Get input from the user\n",
        "n = int(input(\"Enter the value of n: \"))\n",
        "\n",
        "# Check for valid input\n",
        "if n < 1:\n",
        "    print(\"Please enter a positive integer.\")\n",
        "else:\n",
        "    result = cube_sum(n)\n",
        "    print(f\"The cube sum of the first {n} natural numbers is: {result}\")\n",
        "\n"
      ],
      "metadata": {
        "id": "02hKF6wKvWd9"
      },
      "execution_count": null,
      "outputs": []
    },
    {
      "cell_type": "markdown",
      "source": [
        "# Array Programs:"
      ],
      "metadata": {
        "id": "zupLtYP2vuZy"
      }
    },
    {
      "cell_type": "code",
      "source": [
        "# 1.\tPython Program to find sum of array\n",
        "#Python Program to find sum of array\n",
        "def sum_of_array(arr):\n",
        "    return sum(arr)\n",
        "\n",
        "# Get input from the user\n",
        "arr = list(map(int, input(\"Enter the array elements separated by space: \").split()))\n",
        "\n",
        "# Calculate and print the sum of the array\n",
        "result = sum_of_array(arr)\n",
        "print(f\"The sum of the array is: {result}\")\n"
      ],
      "metadata": {
        "id": "opyBQlt0vwUE"
      },
      "execution_count": null,
      "outputs": []
    },
    {
      "cell_type": "code",
      "source": [
        "# 2.\tPython Program to find largest element in an array\n",
        "#Python Program to find largest element in an array\n",
        "def find_largest_element(arr):\n",
        "    if not arr:\n",
        "        return None  # Return None for an empty array\n",
        "    else:\n",
        "        return max(arr)\n",
        "\n",
        "# Get input from the user\n",
        "arr = list(map(int, input(\"Enter the array elements separated by space: \").split()))\n",
        "\n",
        "# Find and print the largest element in the array\n",
        "result = find_largest_element(arr)\n",
        "\n",
        "if result is not None:\n",
        "    print(f\"The largest element in the array is: {result}\")\n",
        "else:\n",
        "    print(\"The array is empty.\")\n"
      ],
      "metadata": {
        "id": "HxzaeCvmvz-1"
      },
      "execution_count": null,
      "outputs": []
    },
    {
      "cell_type": "code",
      "source": [
        "# 3.\tPython Program for array rotation\n",
        "\n",
        "#Python Program for array rotation\n",
        "def left_rotate_array(arr, k):\n",
        "    n = len(arr)\n",
        "    k = k % n  # Handle cases where k is greater than the length of the array\n",
        "    rotated_array = arr[k:] + arr[:k]\n",
        "    return rotated_array\n",
        "\n",
        "# Get input from the user\n",
        "arr = list(map(int, input(\"Enter the array elements separated by space: \").split()))\n",
        "k = int(input(\"Enter the number of positions to rotate left: \"))\n",
        "\n",
        "# Perform left rotation and print the result\n",
        "rotated_result = left_rotate_array(arr, k)\n",
        "print(f\"The array after left rotation is: {rotated_result}\")\n"
      ],
      "metadata": {
        "id": "epn5rHyfv1is"
      },
      "execution_count": null,
      "outputs": []
    },
    {
      "cell_type": "code",
      "source": [
        "# 4.\tPython Program for Reversal algorithm for array rotation\n",
        "\n",
        "#Python Program for Reversal algorithm for array rotation\n",
        "def reverse_array(arr, start, end):\n",
        "    while start < end:\n",
        "        arr[start], arr[end] = arr[end], arr[start]\n",
        "        start += 1\n",
        "        end -= 1\n",
        "\n",
        "def rotate_array(arr, k):\n",
        "    n = len(arr)\n",
        "    k = k % n  # Handle cases where k is greater than the length of the array\n",
        "\n",
        "    # Reverse the elements of the first part\n",
        "    reverse_array(arr, 0, k - 1)\n",
        "\n",
        "    # Reverse the elements of the second part\n",
        "    reverse_array(arr, k, n - 1)\n",
        "\n",
        "    # Reverse the entire array\n",
        "    reverse_array(arr, 0, n - 1)\n",
        "\n",
        "# Get input from the user\n",
        "arr = list(map(int, input(\"Enter the array elements separated by space: \").split()))\n",
        "k = int(input(\"Enter the number of positions to rotate left: \"))\n",
        "\n",
        "# Perform array rotation using reversal algorithm and print the result\n",
        "rotate_array(arr, k)\n",
        "print(f\"The array after rotation is: {arr}\")\n"
      ],
      "metadata": {
        "id": "VwcmkO7Ev49c"
      },
      "execution_count": null,
      "outputs": []
    },
    {
      "cell_type": "code",
      "source": [
        "# 5.\tPython Program to Split the array and add the first part to the end\n",
        "\n",
        "#Python Program to Split the array and add the first part to the end\n",
        "def split_and_add(arr, k):\n",
        "    n = len(arr)\n",
        "    k = k % n  # Handle cases where k is greater than the length of the array\n",
        "\n",
        "    # Split the array into two parts\n",
        "    first_part = arr[:k]\n",
        "    second_part = arr[k:]\n",
        "\n",
        "    # Concatenate the second part with the first part\n",
        "    result = second_part + first_part\n",
        "    return result\n",
        "\n",
        "# Get input from the user\n",
        "arr = list(map(int, input(\"Enter the array elements separated by space: \").split()))\n",
        "k = int(input(\"Enter the number of positions to split and add to the end: \"))\n",
        "\n",
        "# Perform the split and add operation and print the result\n",
        "result = split_and_add(arr, k)\n",
        "print(f\"The array after splitting and adding is: {result}\")\n"
      ],
      "metadata": {
        "id": "PgMj7orqv5vM"
      },
      "execution_count": null,
      "outputs": []
    },
    {
      "cell_type": "code",
      "source": [
        "# 6.\tPython Program for Find reminder of array multiplication divided by n\n",
        "def array_multiplication_remainder(arr, n):\n",
        "    product = 1\n",
        "    for num in arr:\n",
        "        product *= num\n",
        "    return product % n\n",
        "\n",
        "# Example usage:\n",
        "result = array_multiplication_remainder([1, 2, 3, 4, 5], 7)\n",
        "print(\"Reminder of array multiplication:\", result)\n"
      ],
      "metadata": {
        "id": "_PrNc_N8v6hF"
      },
      "execution_count": null,
      "outputs": []
    },
    {
      "cell_type": "code",
      "source": [
        "# 7.\tPython Program to check if given array is Monotonic\n",
        "def is_monotonic(arr):\n",
        "    increasing = decreasing = True\n",
        "\n",
        "    for i in range(1, len(arr)):\n",
        "        if arr[i] > arr[i - 1]:\n",
        "            decreasing = False\n",
        "        elif arr[i] < arr[i - 1]:\n",
        "            increasing = False\n",
        "\n",
        "    return increasing or decreasing\n",
        "\n",
        "# Example usage:\n",
        "result = is_monotonic([1, 2, 3, 2])\n",
        "print(\"Is the array monotonic:\", result)"
      ],
      "metadata": {
        "id": "tr96vwMkv7TM"
      },
      "execution_count": null,
      "outputs": []
    },
    {
      "cell_type": "markdown",
      "source": [
        "# List Programs"
      ],
      "metadata": {
        "id": "wNpRwAF0wJGF"
      }
    },
    {
      "cell_type": "code",
      "source": [
        "# 1.\tPython program to interchange first and last elements in a list\n",
        "def interchange_first_last(lst):\n",
        "    lst[0], lst[-1] = lst[-1], lst[0]\n",
        "    return lst\n",
        "\n",
        "# Example usage:\n",
        "result = interchange_first_last([1, 2, 3, 4, 5])\n",
        "print(\"List after interchanging first and last elements:\", result)\n"
      ],
      "metadata": {
        "id": "Tt1DkPREwMAW"
      },
      "execution_count": null,
      "outputs": []
    },
    {
      "cell_type": "code",
      "source": [
        "# 2.\tPython program to swap two elements in a list\n",
        "def swap_elements(lst, pos1, pos2):\n",
        "    lst[pos1], lst[pos2] = lst[pos2], lst[pos1]\n",
        "    return lst\n",
        "\n",
        "# Example usage:\n",
        "result = swap_elements([1, 2, 3, 4, 5], 1, 3)\n",
        "print(\"List after swapping elements:\", result)\n"
      ],
      "metadata": {
        "id": "PmGQs29NwQeU"
      },
      "execution_count": null,
      "outputs": []
    },
    {
      "cell_type": "code",
      "source": [
        "# 3.\tPython | Ways to find length of list\n",
        "def find_length_of_list(lst):\n",
        "    return len(lst)\n",
        "\n",
        "# Example usage:\n",
        "result = find_length_of_list([1, 2, 3, 4, 5])\n",
        "print(\"Length of the list:\", result)\n"
      ],
      "metadata": {
        "id": "xxjfJEltwSDE"
      },
      "execution_count": null,
      "outputs": []
    },
    {
      "cell_type": "code",
      "source": [
        "# 4.\tPython | Ways to check if element exists in list\n",
        "def element_exists_in_list(lst, element):\n",
        "    return element in lst\n",
        "\n",
        "# Example usage:\n",
        "result = element_exists_in_list([1, 2, 3, 4, 5], 3)\n",
        "print(\"Does element exist in the list:\", result)\n"
      ],
      "metadata": {
        "id": "BQ5D0bKCwSo8"
      },
      "execution_count": null,
      "outputs": []
    },
    {
      "cell_type": "code",
      "source": [
        "# 5.\tDifferent ways to clear a list in Python\n",
        "def clear_list(lst):\n",
        "    lst.clear()  # Method 1\n",
        "    # Alternatively: lst = []  # Method 2\n",
        "    return lst\n",
        "\n",
        "# Example usage:\n",
        "result = clear_list([1, 2, 3, 4, 5])\n",
        "print(\"List after clearing:\", result)\n"
      ],
      "metadata": {
        "id": "5EK-vaoowTF0"
      },
      "execution_count": null,
      "outputs": []
    },
    {
      "cell_type": "code",
      "source": [
        "# 6.\tPython | Reversing a List\n",
        "def reverse_list(lst):\n",
        "    return lst[::-1]\n",
        "\n",
        "# Example usage:\n",
        "result = reverse_list([1, 2, 3, 4, 5])\n",
        "print(\"Reversed list:\", result)\n"
      ],
      "metadata": {
        "id": "mhnHg8a4wVT0"
      },
      "execution_count": null,
      "outputs": []
    },
    {
      "cell_type": "code",
      "source": [
        "# 7.\tPython program to find sum of elements in list\n",
        "def sum_of_elements(lst):\n",
        "    return sum(lst)\n",
        "\n",
        "# Example usage:\n",
        "result = sum_of_elements([1, 2, 3, 4, 5])\n",
        "print(\"Sum of elements in the list:\", result)\n"
      ],
      "metadata": {
        "id": "lkF6TEylwV20"
      },
      "execution_count": null,
      "outputs": []
    },
    {
      "cell_type": "code",
      "source": [
        "# 8.\tPython | Multiply all numbers in the list\n",
        "def multiply_all_numbers(lst):\n",
        "    result = 1\n",
        "    for num in lst:\n",
        "        result *= num\n",
        "    return result\n",
        "\n",
        "# Example usage:\n",
        "result = multiply_all_numbers([1, 2, 3, 4, 5])\n",
        "print(\"Product of all numbers in the list:\", result)\n"
      ],
      "metadata": {
        "id": "uffjl_nnwWSU"
      },
      "execution_count": null,
      "outputs": []
    },
    {
      "cell_type": "code",
      "source": [
        "# 9.\tPython program to find smallest number in a list\n",
        "def find_smallest_number(lst):\n",
        "    return min(lst)\n",
        "\n",
        "# Example usage:\n",
        "result = find_smallest_number([5, 2, 8, 1, 4])\n",
        "print(\"Smallest number in the list:\", result)\n"
      ],
      "metadata": {
        "id": "bD4MGrCswWmM"
      },
      "execution_count": null,
      "outputs": []
    },
    {
      "cell_type": "code",
      "source": [
        "# 10.\tPython program to find largest number in a list\n",
        "def find_largest_number(lst):\n",
        "    return max(lst)\n",
        "\n",
        "# Example usage:\n",
        "result = find_largest_number([5, 2, 8, 1, 4])\n",
        "print(\"Largest number in the list:\", result)\n"
      ],
      "metadata": {
        "id": "-LfVLsYFwW6k"
      },
      "execution_count": null,
      "outputs": []
    },
    {
      "cell_type": "code",
      "source": [
        "# 11.\tPython program to find second largest number in a list\n",
        "def find_second_largest(lst):\n",
        "    unique_sorted = sorted(set(lst), reverse=True)\n",
        "    return unique_sorted[1] if len(unique_sorted) > 1 else None\n",
        "\n",
        "# Example usage:\n",
        "result = find_second_largest([5, 2, 8, 1, 4])\n",
        "print(\"Second largest number in the list:\", result)\n"
      ],
      "metadata": {
        "id": "es_f423LwXas"
      },
      "execution_count": null,
      "outputs": []
    },
    {
      "cell_type": "code",
      "source": [
        "# 12.\tPython program to find N largest elements from a list\n",
        "def find_n_largest_elements(lst, n):\n",
        "    return sorted(lst, reverse=True)[:n]\n",
        "\n",
        "# Example usage:\n",
        "result = find_n_largest_elements([5, 2, 8, 1, 4], 3)\n",
        "print(\"3 largest elements in the list:\", result)\n"
      ],
      "metadata": {
        "id": "S8e3clqowXxd"
      },
      "execution_count": null,
      "outputs": []
    },
    {
      "cell_type": "code",
      "source": [
        "# 13.\tPython program to print even numbers in a list\n",
        "def print_even_numbers(lst):\n",
        "    return [num for num in lst if num % 2 == 0]\n",
        "\n",
        "# Example usage:\n",
        "result = print_even_numbers([1, 2, 3, 4, 5])\n",
        "print(\"Even numbers in the list:\", result)\n"
      ],
      "metadata": {
        "id": "IbRU6qg0wYp0"
      },
      "execution_count": null,
      "outputs": []
    },
    {
      "cell_type": "code",
      "source": [
        "# 14.\tPython program to print odd numbers in a List\n",
        "def print_odd_numbers(lst):\n",
        "    return [num for num in lst if num % 2 != 0]\n",
        "\n",
        "# Example usage:\n",
        "result = print_odd_numbers([1, 2, 3, 4, 5])\n",
        "print(\"Odd numbers in the list:\", result)\n"
      ],
      "metadata": {
        "id": "klnrVIb9wY9l"
      },
      "execution_count": null,
      "outputs": []
    },
    {
      "cell_type": "code",
      "source": [
        "# 15.\tPython program to print all even numbers in a range\n",
        "def print_even_numbers_in_range(start, end):\n",
        "    return [num for num in range(start, end + 1) if num % 2 == 0]\n",
        "\n",
        "# Example usage:\n",
        "result = print_even_numbers_in_range(1, 10)\n",
        "print(\"Even numbers in the range:\", result)\n",
        "\n"
      ],
      "metadata": {
        "id": "374MCeaHwZQU"
      },
      "execution_count": null,
      "outputs": []
    },
    {
      "cell_type": "code",
      "source": [
        "# 17.\tPython program to print positive numbers in a list\n",
        "def print_positive_numbers(lst):\n",
        "    return [num for num in lst if num > 0]\n",
        "\n",
        "# Example usage:\n",
        "result = print_positive_numbers([-1, 2, -3, 4, -5])\n",
        "print(\"Positive numbers in the list:\", result)\n"
      ],
      "metadata": {
        "id": "8QDoxujSwadE"
      },
      "execution_count": null,
      "outputs": []
    },
    {
      "cell_type": "code",
      "source": [
        "# 18.\tPython program to print negative numbers in a list\n",
        "def print_negative_numbers(lst):\n",
        "    return [num for num in lst if num < 0]\n",
        "\n",
        "# Example usage:\n",
        "result = print_negative_numbers([-1, 2, -3, 4, -5])\n",
        "print(\"Negative numbers in the list:\", result)\n"
      ],
      "metadata": {
        "id": "Bgam8PNGwky0"
      },
      "execution_count": null,
      "outputs": []
    },
    {
      "cell_type": "code",
      "source": [
        "# 19.\tPython program to print all positive numbers in a range\n",
        "def print_positive_numbers_in_range(start, end):\n",
        "    positive_numbers = [num for num in range(start, end + 1) if num > 0]\n",
        "    return positive_numbers\n",
        "\n",
        "# Example usage:\n",
        "start_value = -5\n",
        "end_value = 5\n",
        "result = print_positive_numbers_in_range(start_value, end_value)\n",
        "print(f\"All positive numbers in the range {start_value} to {end_value}:\", result)\n"
      ],
      "metadata": {
        "id": "w7ThprvowmG9"
      },
      "execution_count": null,
      "outputs": []
    },
    {
      "cell_type": "code",
      "source": [
        "# 20.\tPython program to print all negative numbers in a range\n",
        "def print_negative_numbers_in_range(start, end):\n",
        "    negative_numbers = [num for num in range(start, end + 1) if num < 0]\n",
        "    return negative_numbers\n",
        "\n",
        "# Example usage:\n",
        "start_value = -5\n",
        "end_value = 5\n",
        "result = print_negative_numbers_in_range(start_value, end_value)\n",
        "print(f\"All negative numbers in the range {start_value} to {end_value}:\", result)\n"
      ],
      "metadata": {
        "id": "pUa-HeTewmqk"
      },
      "execution_count": null,
      "outputs": []
    },
    {
      "cell_type": "code",
      "source": [
        "# 21.\tRemove multiple elements from a list in Python\n",
        "def remove_multiple_elements(lst, elements_to_remove):\n",
        "    return [ele for ele in lst if ele not in elements_to_remove]\n",
        "\n",
        "# Example usage:\n",
        "result = remove_multiple_elements([1, 2, 3, 4, 5], [2, 4])\n",
        "print(\"List after removing multiple elements:\", result)\n"
      ],
      "metadata": {
        "id": "V62artWQwnMk"
      },
      "execution_count": null,
      "outputs": []
    },
    {
      "cell_type": "code",
      "source": [
        "# 22.\tPython – Remove empty List from List\n",
        "def remove_empty_lists(lst):\n",
        "    return [sublist for sublist in lst if sublist]\n",
        "\n",
        "# Example usage:\n",
        "result = remove_empty_lists([[1, 2], [], [3, 4], []])\n",
        "print(\"List after removing empty lists:\", result)\n"
      ],
      "metadata": {
        "id": "P92qhu-SwnmM"
      },
      "execution_count": null,
      "outputs": []
    },
    {
      "cell_type": "code",
      "source": [
        "# 23.\tPython | Cloning or Copying a list\n",
        "def clone_list(lst):\n",
        "    return lst.copy()  # Alternatively: return lst[:]\n",
        "\n",
        "# Example usage:\n",
        "original_list = [1, 2, 3, 4, 5]\n",
        "cloned_list = clone_list(original_list)\n",
        "print(\"Cloned list:\", cloned_list)\n"
      ],
      "metadata": {
        "id": "rILKOBSQwn_k"
      },
      "execution_count": null,
      "outputs": []
    },
    {
      "cell_type": "code",
      "source": [
        "# 24.\tPython | Count occurrences of an element in a list\n",
        "def count_occurrences(lst, element):\n",
        "    return lst.count(element)\n",
        "\n",
        "# Example usage:\n",
        "result = count_occurrences([1, 2, 3, 2, 4, 2, 5], 2)\n",
        "print(\"Occurrences of '2' in the list:\", result)\n"
      ],
      "metadata": {
        "id": "WgrG_b_DwoXE"
      },
      "execution_count": null,
      "outputs": []
    },
    {
      "cell_type": "code",
      "source": [
        "# 25.\tPython | Remove empty tuples from a list\n",
        "def remove_empty_tuples(input_list):\n",
        "    updated_list = [tpl for tpl in input_list if tpl]\n",
        "    return updated_list\n",
        "\n",
        "# Example usage:\n",
        "sample_list = [(1, 2), (), (3, 4), (), (5, 6)]\n",
        "result = remove_empty_tuples(sample_list)\n",
        "print(\"List after removing empty tuples:\", result)\n"
      ],
      "metadata": {
        "id": "zdoaXg2ewouc"
      },
      "execution_count": null,
      "outputs": []
    },
    {
      "cell_type": "code",
      "source": [
        "# 26.\tPython | Program to print duplicates from a list of integers\n",
        "def print_duplicates(input_list):\n",
        "    seen = set()\n",
        "    duplicates = set()\n",
        "\n",
        "    for num in input_list:\n",
        "        if num in seen:\n",
        "            duplicates.add(num)\n",
        "        else:\n",
        "            seen.add(num)\n",
        "\n",
        "    return list(duplicates)\n",
        "\n",
        "# Example usage:\n",
        "sample_list = [1, 2, 3, 2, 4, 5, 3]\n",
        "result = print_duplicates(sample_list)\n",
        "print(\"Duplicate elements in the list:\", result)\n"
      ],
      "metadata": {
        "id": "kpNFJ0SLwpHc"
      },
      "execution_count": null,
      "outputs": []
    },
    {
      "cell_type": "code",
      "source": [
        "# 27.\tPython program to find Cumulative sum of a list\n",
        "def cumulative_sum(input_list):\n",
        "    cum_sum = [sum(input_list[:i+1]) for i in range(len(input_list))]\n",
        "    return cum_sum\n",
        "\n",
        "# Example usage:\n",
        "sample_list = [1, 2, 3, 4, 5]\n",
        "result = cumulative_sum(sample_list)\n",
        "print(\"Cumulative sum of elements in the list:\", result)\n"
      ],
      "metadata": {
        "id": "3A6FscU_wpj0"
      },
      "execution_count": null,
      "outputs": []
    },
    {
      "cell_type": "code",
      "source": [
        "# 28.\tPython | Sum of number digits in List\n",
        "def sum_of_digits_in_list(input_list):\n",
        "    sum_digits = [sum(int(digit) for digit in str(num)) for num in input_list]\n",
        "    return sum_digits\n",
        "\n",
        "# Example usage:\n",
        "sample_list = [12, 34, 56, 78]\n",
        "result = sum_of_digits_in_list(sample_list)\n",
        "print(\"Sum of digits of numbers in the list:\", result)\n"
      ],
      "metadata": {
        "id": "c8ycNH6uwp90"
      },
      "execution_count": null,
      "outputs": []
    },
    {
      "cell_type": "code",
      "source": [
        "# 29.\tBreak a list into chunks of size N in Python\n",
        "def break_list_into_chunks(lst, chunk_size):\n",
        "    return [lst[i:i + chunk_size] for i in range(0, len(lst), chunk_size)]\n",
        "\n",
        "# Example usage:\n",
        "result = break_list_into_chunks([1, 2, 3, 4, 5, 6, 7, 8], 3)\n",
        "print(\"List broken into chunks of size 3:\", result)\n"
      ],
      "metadata": {
        "id": "BvokguzdwqYN",
        "colab": {
          "base_uri": "https://localhost:8080/"
        },
        "outputId": "6442b305-c4cc-4543-a918-c078ab8aae81"
      },
      "execution_count": null,
      "outputs": [
        {
          "output_type": "stream",
          "name": "stdout",
          "text": [
            "List broken into chunks of size 3: [[1, 2, 3], [4, 5, 6], [7, 8]]\n"
          ]
        }
      ]
    },
    {
      "cell_type": "code",
      "source": [
        "# 30.\tPython | Sort the values of first list using second list\n",
        "def sort_values_using_second_list(list1, list2):\n",
        "    sorted_list = [val for _, val in sorted(zip(list2, list1))]\n",
        "    return sorted_list\n",
        "\n",
        "# Example usage:\n",
        "list1 = ['apple', 'banana', 'orange']\n",
        "list2 = [3, 1, 2]\n",
        "result = sort_values_using_second_list(list1, list2)\n",
        "print(\"List1 values sorted using List2:\", result)\n"
      ],
      "metadata": {
        "id": "vbxTe2vEwsJs"
      },
      "execution_count": null,
      "outputs": []
    },
    {
      "cell_type": "markdown",
      "source": [
        "# Matrix Programs"
      ],
      "metadata": {
        "id": "mESrvGfkw4S8"
      }
    },
    {
      "cell_type": "code",
      "source": [
        "# 1.\tPython program to add two Matrices\n",
        "def add_matrices(matrix1, matrix2):\n",
        "    return [[matrix1[i][j] + matrix2[i][j] for j in range(len(matrix1[0]))] for i in range(len(matrix1))]\n",
        "\n",
        "# Example usage:\n",
        "result = add_matrices([[1, 2], [3, 4]], [[5, 6], [7, 8]])\n",
        "print(\"Sum of two matrices:\", result)\n"
      ],
      "metadata": {
        "id": "WYM_hdlvw7HN"
      },
      "execution_count": null,
      "outputs": []
    },
    {
      "cell_type": "code",
      "source": [
        "# 2.\tPython program to multiply two matrices\n",
        "def multiply_matrices(matrix1, matrix2):\n",
        "    result = [[0 for _ in range(len(matrix2[0]))] for _ in range(len(matrix1))]\n",
        "\n",
        "    for i in range(len(matrix1)):\n",
        "        for j in range(len(matrix2[0])):\n",
        "            for k in range(len(matrix2)):\n",
        "                result[i][j] += matrix1[i][k] * matrix2[k][j]\n",
        "\n",
        "    return result\n",
        "\n",
        "# Example usage:\n",
        "result = multiply_matrices([[1, 2], [3, 4]], [[5, 6], [7, 8]])\n",
        "print(\"Product of two matrices:\", result)\n"
      ],
      "metadata": {
        "id": "_JulX0m_w-49"
      },
      "execution_count": null,
      "outputs": []
    },
    {
      "cell_type": "code",
      "source": [
        "# 3.\tPython program for Matrix Product\n",
        "def matrix_product(matrix1, matrix2):\n",
        "    return [[sum(a * b for a, b in zip(row1, col2)) for col2 in zip(*matrix2)] for row1 in matrix1]\n",
        "\n",
        "# Example usage:\n",
        "result = matrix_product([[1, 2], [3, 4]], [[5, 6], [7, 8]])\n",
        "print(\"Matrix product:\", result)\n"
      ],
      "metadata": {
        "id": "eh32J5Wdw_iN"
      },
      "execution_count": null,
      "outputs": []
    },
    {
      "cell_type": "code",
      "source": [
        "# 4.\tAdding and Subtracting Matrices in Python\n",
        "def add_matrices(matrix1, matrix2):\n",
        "    return [[matrix1[i][j] + matrix2[i][j] for j in range(len(matrix1[0]))] for i in range(len(matrix1))]\n",
        "\n",
        "def subtract_matrices(matrix1, matrix2):\n",
        "    return [[matrix1[i][j] - matrix2[i][j] for j in range(len(matrix1[0]))] for i in range(len(matrix1))]\n",
        "\n",
        "# Example usage:\n",
        "result_add = add_matrices([[1, 2], [3, 4]], [[5, 6], [7, 8]])\n",
        "result_subtract = subtract_matrices([[1, 2], [3, 4]], [[5, 6], [7, 8]])\n",
        "print(\"Sum of matrices:\", result_add)\n",
        "print(\"Difference of matrices:\", result_subtract)\n"
      ],
      "metadata": {
        "id": "ywf0WhPhw_3N"
      },
      "execution_count": null,
      "outputs": []
    },
    {
      "cell_type": "code",
      "source": [
        "# 5.\tTranspose a matrix in Single line in Python\n",
        "def transpose_matrix(matrix):\n",
        "    return [[matrix[j][i] for j in range(len(matrix))] for i in range(len(matrix[0]))]\n",
        "\n",
        "# Example usage:\n",
        "result = transpose_matrix([[1, 2, 3], [4, 5, 6]])\n",
        "print(\"Transposed matrix:\", result)\n"
      ],
      "metadata": {
        "id": "F9FbR3g-xA6M"
      },
      "execution_count": null,
      "outputs": []
    },
    {
      "cell_type": "code",
      "source": [
        "# 6.\tPython | Matrix creation of n*n\n",
        "def create_square_matrix(n):\n",
        "    return [[0] * n for _ in range(n)]\n",
        "\n",
        "# Example usage:\n",
        "result = create_square_matrix(3)\n",
        "print(\"Square matrix of size 3x3:\", result)\n"
      ],
      "metadata": {
        "id": "rbnD_uhaxBoG"
      },
      "execution_count": null,
      "outputs": []
    },
    {
      "cell_type": "code",
      "source": [
        "# 7.\tPython | Get Kth Column of Matrix\n",
        "def get_kth_column(matrix, k):\n",
        "    return [row[k] for row in matrix]\n",
        "\n",
        "# Example usage:\n",
        "result = get_kth_column([[1, 2, 3], [4, 5, 6], [7, 8, 9]], 1)\n",
        "print(\"Kth column of matrix:\", result)\n"
      ],
      "metadata": {
        "id": "tBK8HnU3xCBV"
      },
      "execution_count": null,
      "outputs": []
    },
    {
      "cell_type": "code",
      "source": [
        "# 8.\tPython – Vertical Concatenation in Matrix\n",
        "def vertical_concatenation(matrix1, matrix2):\n",
        "    return matrix1 + matrix2\n",
        "\n",
        "# Example usage:\n",
        "result = vertical_concatenation([[1, 2], [3, 4]], [[5, 6], [7, 8]])\n",
        "print(\"Vertically concatenated matrices:\", result)"
      ],
      "metadata": {
        "id": "W_ShHH6sxCW0"
      },
      "execution_count": null,
      "outputs": []
    },
    {
      "cell_type": "markdown",
      "source": [
        "# String Programs"
      ],
      "metadata": {
        "id": "ONHRtUo_xHsf"
      }
    },
    {
      "cell_type": "code",
      "source": [
        "# 1.\tPython program to check if a string is palindrome or not\n",
        "def is_palindrome(s):\n",
        "    return s == s[::-1]\n",
        "\n",
        "# Example usage:\n",
        "result = is_palindrome(\"radar\")\n",
        "print(\"Is the string a palindrome:\", result)\n"
      ],
      "metadata": {
        "id": "ZlHjrmzQxJQ9"
      },
      "execution_count": null,
      "outputs": []
    },
    {
      "cell_type": "code",
      "source": [
        "# 2.\tPython program to check whether the string is Symmetrical or Palindrome\n",
        "def is_symmetrical_and_palindrome(s):\n",
        "    return s == s[::-1] and s == s[::-1]\n",
        "\n",
        "# Example usage:\n",
        "result = is_symmetrical_and_palindrome(\"level\")\n",
        "print(\"Is the string symmetrical and palindrome:\", result)\n"
      ],
      "metadata": {
        "id": "Hz_SiNuOxtql"
      },
      "execution_count": null,
      "outputs": []
    },
    {
      "cell_type": "code",
      "source": [
        "# 3.\tReverse words in a given String in Python\n",
        "def reverse_words(s):\n",
        "    return ' '.join(word[::-1] for word in s.split())\n",
        "\n",
        "# Example usage:\n",
        "result = reverse_words(\"Hello World\")\n",
        "print(\"String with reversed words:\", result)\n"
      ],
      "metadata": {
        "id": "dopGyuWgxRfd"
      },
      "execution_count": null,
      "outputs": []
    },
    {
      "cell_type": "code",
      "source": [
        "# 4.\tWays to remove i’th character from string in Python\n",
        "def remove_ith_character(s, i):\n",
        "    return s[:i] + s[i+1:]\n",
        "\n",
        "# Example usage:\n",
        "result = remove_ith_character(\"Python\", 2)\n",
        "print(\"String after removing 2nd character:\", result)\n"
      ],
      "metadata": {
        "id": "lmKXvgNZxRut"
      },
      "execution_count": null,
      "outputs": []
    },
    {
      "cell_type": "code",
      "source": [
        "# 5.\tPython | Check if a Substring is Present in a Given String\n",
        "def is_substring_present(main_string, substring):\n",
        "    return substring in main_string\n",
        "\n",
        "# Example usage:\n",
        "result = is_substring_present(\"Python Programming\", \"Pro\")\n",
        "print(\"Is 'Pro' present in the string:\", result)\n"
      ],
      "metadata": {
        "id": "PvIdAb85xR9k"
      },
      "execution_count": null,
      "outputs": []
    },
    {
      "cell_type": "code",
      "source": [
        "# 6.\tPython – Words Frequency in String Shorthands\n",
        "def words_frequency(s):\n",
        "    return {word: s.split().count(word) for word in set(s.split())}\n",
        "\n",
        "# Example usage:\n",
        "result = words_frequency(\"Python is fun and Python is versatile\")\n",
        "print(\"Word frequencies in the string:\", result)\n"
      ],
      "metadata": {
        "id": "wyNe5ysPxTmU"
      },
      "execution_count": null,
      "outputs": []
    },
    {
      "cell_type": "code",
      "source": [
        "# 7.\tPython – Convert Snake case to Pascal case\n",
        "def snake_to_pascal_case(s):\n",
        "    return ''.join(word.capitalize() for word in s.split('_'))\n",
        "\n",
        "# Example usage:\n",
        "result = snake_to_pascal_case(\"python_programming_language\")\n",
        "print(\"Pascal case conversion:\", result)\n"
      ],
      "metadata": {
        "id": "79QXhEZqxT6d"
      },
      "execution_count": null,
      "outputs": []
    },
    {
      "cell_type": "code",
      "source": [
        "# 8.\tFind length of a string in python (4 ways)\n",
        "# Method 1:\n",
        "length1 = len(\"Hello\")\n",
        "\n",
        "# Method 2:\n",
        "length2 = sum(1 for _ in \"Hello\")\n",
        "\n",
        "# Method 3:\n",
        "length3 = 0\n",
        "for _ in \"Hello\":\n",
        "    length3 += 1\n",
        "\n",
        "# Method 4:\n",
        "length4 = 0\n",
        "while \"Hello\"[length4:]:\n",
        "    length4 += 1\n",
        "\n",
        "print(\"Length using different methods:\", length1, length2, length3, length4)\n"
      ],
      "metadata": {
        "id": "J2iulHIaxULe"
      },
      "execution_count": null,
      "outputs": []
    },
    {
      "cell_type": "code",
      "source": [
        "# 9.\tPython program to print even length words in a string\n",
        "def print_even_length_words(s):\n",
        "    return [word for word in s.split() if len(word) % 2 == 0]\n",
        "\n",
        "# Example usage:\n",
        "result = print_even_length_words(\"Python is an amazing programming language\")\n",
        "print(\"Even length words in the string:\", result)\n"
      ],
      "metadata": {
        "id": "bCwKum0LxUbN"
      },
      "execution_count": null,
      "outputs": []
    },
    {
      "cell_type": "code",
      "source": [
        "# 10.\tPython program to accept the strings which contains all vowels\n",
        "def contains_all_vowels(s):\n",
        "    return all(char in s.lower() for char in 'aeiou')\n",
        "\n",
        "# Example usage:\n",
        "result = contains_all_vowels(\"education\")\n",
        "print(\"Does the string contain all vowels:\", result)\n"
      ],
      "metadata": {
        "id": "47EZWNG5xVT8"
      },
      "execution_count": null,
      "outputs": []
    },
    {
      "cell_type": "code",
      "source": [
        "# 11.\tPython | Count the Number of matching characters in a pair of string\n",
        "def count_matching_characters(s1, s2):\n",
        "    return sum(1 for char in set(s1) if char in s2)\n",
        "\n",
        "# Example usage:\n",
        "result = count_matching_characters(\"hello\", \"world\")\n",
        "print(\"Number of matching characters:\", result)\n"
      ],
      "metadata": {
        "id": "9lpo4ZgwxVp0"
      },
      "execution_count": null,
      "outputs": []
    },
    {
      "cell_type": "code",
      "source": [
        "# 12.\tRemove all duplicates from a given string in Python\n",
        "def remove_duplicates(s):\n",
        "    return ''.join(char for char in sorted(set(s), key=s.index))\n",
        "\n",
        "# Example usage:\n",
        "result = remove_duplicates(\"programming\")\n",
        "print(\"String after removing duplicates:\", result)\n",
        "\n"
      ],
      "metadata": {
        "id": "2J49_Z7cxX1d"
      },
      "execution_count": null,
      "outputs": []
    },
    {
      "cell_type": "code",
      "source": [
        "# 13.\tPython – Least Frequent Character in String\n",
        "def least_frequent_character(s):\n",
        "    return min(set(s), key=s.count)\n",
        "\n",
        "# Example usage:\n",
        "result = least_frequent_character(\"programming\")\n",
        "print(\"Least frequent character:\", result)\n",
        "\n"
      ],
      "metadata": {
        "id": "Mz4HsbSUxZJc"
      },
      "execution_count": null,
      "outputs": []
    },
    {
      "cell_type": "code",
      "source": [
        "# 14.\tPython | Maximum frequency character in String\n",
        "def maximum_frequency_character(s):\n",
        "    return max(set(s), key=s.count)\n",
        "\n",
        "# Example usage:\n",
        "result = maximum_frequency_character(\"programming\")\n",
        "print(\"Maximum frequency character:\", result)\n"
      ],
      "metadata": {
        "id": "QKXkQfVjxZeN"
      },
      "execution_count": null,
      "outputs": []
    },
    {
      "cell_type": "code",
      "source": [
        "# 15.\tPython | Program to check if a string contains any special character\n",
        "def contains_special_character(s):\n",
        "    return any(char.isalnum() for char in s)\n",
        "\n",
        "# Example usage:\n",
        "result = contains_special_character(\"Python@123\")\n",
        "print(\"Does the string contain special character:\", result)\n"
      ],
      "metadata": {
        "id": "h-wojdjGxdFc"
      },
      "execution_count": null,
      "outputs": []
    },
    {
      "cell_type": "code",
      "source": [
        "# 16.\tGenerating random strings until a given string is generated\n",
        "import random\n",
        "import string\n",
        "\n",
        "def generate_random_string(length):\n",
        "    return ''.join(random.choice(string.ascii_letters) for _ in range(length))\n",
        "\n",
        "# Example usage:\n",
        "given_string = \"TargetString\"\n",
        "generated_string = generate_random_string(len(given_string))\n",
        "print(\"Generated random string:\", generated_string)\n"
      ],
      "metadata": {
        "id": "7Da-i579xdlM"
      },
      "execution_count": null,
      "outputs": []
    },
    {
      "cell_type": "code",
      "source": [
        "# 17.\tFind words which are greater than given length k\n",
        "def find_words_greater_than_length(s, k):\n",
        "    return [word for word in s.split() if len(word) > k]\n",
        "\n",
        "# Example usage:\n",
        "result = find_words_greater_than_length(\"Python is awesome\", 4)\n",
        "print(\"Words greater than length 4:\", result)\n"
      ],
      "metadata": {
        "id": "tPtYN2gixeNU"
      },
      "execution_count": null,
      "outputs": []
    },
    {
      "cell_type": "code",
      "source": [
        "# 18.\tPython program for removing i-th character from a string\n",
        "def remove_ith_character(s, i):\n",
        "    return s[:i] + s[i+1:]\n",
        "\n",
        "# Example usage:\n",
        "result = remove_ith_character(\"Python\", 2)\n",
        "print(\"String after removing 2nd character:\", result)\n"
      ],
      "metadata": {
        "id": "9t4IMYfYxei8"
      },
      "execution_count": null,
      "outputs": []
    },
    {
      "cell_type": "code",
      "source": [
        "# 19.\tPython program to split and join a string\n",
        "def split_and_join(s):\n",
        "    words = s.split()\n",
        "    joined_string = '-'.join(words)\n",
        "    return words, joined_string\n",
        "\n",
        "# Example usage:\n",
        "result_words, result_joined_string = split_and_join(\"Python is powerful\")\n",
        "print(\"Split words:\", result_words)\n",
        "print(\"Joined string with '-':\", result_joined_string)\n"
      ],
      "metadata": {
        "id": "ScBbup_0xe3t"
      },
      "execution_count": null,
      "outputs": []
    },
    {
      "cell_type": "code",
      "source": [
        "# 20.\tPython | Check if a given string is binary string or not\n",
        "def is_binary_string(s):\n",
        "    return all(char in '01' for char in s)\n",
        "\n",
        "# Example usage:\n",
        "result = is_binary_string(\"101001\")\n",
        "print(\"Is the string a binary string:\", result)\n"
      ],
      "metadata": {
        "id": "yxNifKxjxfYd"
      },
      "execution_count": null,
      "outputs": []
    },
    {
      "cell_type": "code",
      "source": [
        "# 21.\tPython program to find uncommon words from two Strings\n",
        "def find_uncommon_words(s1, s2):\n",
        "    set1 = set(s1.split())\n",
        "    set2 = set(s2.split())\n",
        "    uncommon_words = set1.symmetric_difference(set2)\n",
        "    return list(uncommon_words)\n",
        "\n",
        "# Example usage:\n",
        "result = find_uncommon_words(\"Python is powerful\", \"Java is versatile\")\n",
        "print(\"Uncommon words between two strings:\", result)\n"
      ],
      "metadata": {
        "id": "8xjx1xKFxf0m"
      },
      "execution_count": null,
      "outputs": []
    },
    {
      "cell_type": "code",
      "source": [
        "# 22.\tPython – Replace duplicate Occurrence in String\n",
        "def replace_duplicate_occurrence(s):\n",
        "    seen = set()\n",
        "    result = []\n",
        "    for char in s:\n",
        "        if char not in seen:\n",
        "            seen.add(char)\n",
        "            result.append(char)\n",
        "        else:\n",
        "            result.append('$')  # or any other replacement character\n",
        "    return ''.join(result)\n",
        "\n",
        "# Example usage:\n",
        "result = replace_duplicate_occurrence(\"programming\")\n",
        "print(\"String with duplicate occurrence replaced:\", result)\n"
      ],
      "metadata": {
        "id": "8gpYcIfixor0"
      },
      "execution_count": null,
      "outputs": []
    },
    {
      "cell_type": "code",
      "source": [
        "# 23.\tPython – Replace multiple words with K\n",
        "def replace_multiple_words(s, words_to_replace, replacement):\n",
        "    for word in words_to_replace:\n",
        "        s = s.replace(word, replacement)\n",
        "    return s\n",
        "\n",
        "# Example usage:\n",
        "result = replace_multiple_words(\"Python is fun and Python is versatile\", ['Python', 'is'], 'K')\n",
        "print(\"String after replacing multiple words:\", result)\n"
      ],
      "metadata": {
        "id": "xWkmjRVlxgpV"
      },
      "execution_count": null,
      "outputs": []
    },
    {
      "cell_type": "code",
      "source": [
        "# 24.\tPython | Permutation of a given string using inbuilt function\n",
        "from itertools import permutations\n",
        "\n",
        "def string_permutations(s):\n",
        "    return [''.join(p) for p in permutations(s)]\n",
        "\n",
        "# Example usage:\n",
        "result = string_permutations(\"abc\")\n",
        "print(\"Permutations of the string:\", result)\n"
      ],
      "metadata": {
        "id": "b6biRXe5xhwM"
      },
      "execution_count": null,
      "outputs": []
    },
    {
      "cell_type": "code",
      "source": [
        "# 25.\tPython | Check for URL in a String\n",
        "import re\n",
        "\n",
        "def contains_url(s):\n",
        "    url_pattern = re.compile(r'https?://\\S+')\n",
        "    return bool(url_pattern.search(s))\n",
        "\n",
        "# Example usage:\n",
        "result = contains_url(\"Check out this website: https://www.example.com\")\n",
        "print(\"Does the string contain a URL:\", result)\n"
      ],
      "metadata": {
        "id": "CO-KIVyXxiU0"
      },
      "execution_count": null,
      "outputs": []
    },
    {
      "cell_type": "code",
      "source": [
        "# 26.\tExecute a String of Code in Python\n",
        "def execute_code_string(code_string):\n",
        "    try:\n",
        "        exec(code_string)\n",
        "    except Exception as e:\n",
        "        return f\"Error: {e}\"\n",
        "\n",
        "# Example usage:\n",
        "code_string = \"print('Hello, World!')\"\n",
        "result = execute_code_string(code_string)\n"
      ],
      "metadata": {
        "id": "wCMS-PklxkcV"
      },
      "execution_count": null,
      "outputs": []
    },
    {
      "cell_type": "code",
      "source": [
        "# 27.\tString slicing in Python to rotate a string\n",
        "def rotate_string(s, k):\n",
        "    return s[k:] + s[:k]\n",
        "\n",
        "# Example usage:\n",
        "result = rotate_string(\"Python\", 3)\n",
        "print(\"Rotated string:\", result)\n"
      ],
      "metadata": {
        "id": "siS030yPxk30"
      },
      "execution_count": null,
      "outputs": []
    },
    {
      "cell_type": "code",
      "source": [
        "# 28.\tString slicing in Python to check if a string can become empty by recursive deletion\n",
        "def can_become_empty(s, target):\n",
        "    while s:\n",
        "        s = s.replace(target, '')\n",
        "    return not bool(s)\n",
        "\n",
        "# Example usage:\n",
        "result = can_become_empty(\"abccab\", \"abc\")\n",
        "print(\"Can the string become empty:\", result)\n"
      ],
      "metadata": {
        "id": "lxRJ93UXxlxe"
      },
      "execution_count": null,
      "outputs": []
    },
    {
      "cell_type": "code",
      "source": [
        "# 29.\tPython Counter| Find all duplicate characters in string\n",
        "from collections import Counter\n",
        "\n",
        "def find_duplicate_characters(s):\n",
        "    char_count = Counter(s)\n",
        "    return [char for char, count in char_count.items() if count > 1]\n",
        "\n",
        "# Example usage:\n",
        "result = find_duplicate_characters(\"programming\")\n",
        "print(\"Duplicate characters in the string:\", result)\n"
      ],
      "metadata": {
        "id": "xDpeHipKxmM1"
      },
      "execution_count": null,
      "outputs": []
    },
    {
      "cell_type": "code",
      "source": [
        "# 30.\tPython – Replace all occurrences of a substring in a string\n",
        "def replace_substring(s, old_substring, new_substring):\n",
        "    return s.replace(old_substring, new_substring)\n",
        "\n",
        "# Example usage:\n",
        "result = replace_substring(\"Python is easy. Python is powerful.\", \"Python\", \"Java\")\n",
        "print(\"String after replacing substring:\", result)\n"
      ],
      "metadata": {
        "id": "Lxccr5N7xmmd"
      },
      "execution_count": null,
      "outputs": []
    },
    {
      "cell_type": "markdown",
      "source": [
        "# Dictionary Programs"
      ],
      "metadata": {
        "id": "LeQXus3sxxQf"
      }
    },
    {
      "cell_type": "code",
      "source": [
        "# 1.\tPython – Extract Unique values dictionary values\n",
        "def extract_unique_values(dictionary):\n",
        "    return set(value for values in dictionary.values() for value in values)\n",
        "\n",
        "# Example usage:\n",
        "sample_dict = {'A': [1, 2, 3], 'B': [2, 4, 6], 'C': [3, 6, 9]}\n",
        "result = extract_unique_values(sample_dict)\n",
        "print(\"Unique values in dictionary:\", result)\n"
      ],
      "metadata": {
        "id": "Kb_oN_O4xy3d"
      },
      "execution_count": null,
      "outputs": []
    },
    {
      "cell_type": "code",
      "source": [
        "# 2.\tPython program to find the sum of all items in a dictionary\n",
        "def sum_of_items(dictionary):\n",
        "    return sum(dictionary.values())\n",
        "\n",
        "# Example usage:\n",
        "sample_dict = {'A': 10, 'B': 20, 'C': 30}\n",
        "result = sum_of_items(sample_dict)\n",
        "print(\"Sum of all items in dictionary:\", result)\n"
      ],
      "metadata": {
        "id": "BVJRnX7kx4HN"
      },
      "execution_count": null,
      "outputs": []
    },
    {
      "cell_type": "code",
      "source": [
        "# 3.\tPython | Ways to remove a key from dictionary\n",
        "def remove_key(dictionary, key_to_remove):\n",
        "    new_dict = {key: value for key, value in dictionary.items() if key != key_to_remove}\n",
        "    return new_dict\n",
        "\n",
        "# Example usage:\n",
        "sample_dict = {'A': 10, 'B': 20, 'C': 30}\n",
        "key_to_remove = 'B'\n",
        "result = remove_key(sample_dict, key_to_remove)\n",
        "print(\"Dictionary after removing key:\", result)\n"
      ],
      "metadata": {
        "id": "PromymYrx4mM"
      },
      "execution_count": null,
      "outputs": []
    },
    {
      "cell_type": "code",
      "source": [
        "# 4.\tWays to sort list of dictionaries by values in Python – Using itemgetter\n",
        "from operator import itemgetter\n",
        "\n",
        "def sort_dict_by_values(dictionary):\n",
        "    sorted_dict = dict(sorted(dictionary.items(), key=itemgetter(1)))\n",
        "    return sorted_dict\n",
        "\n",
        "# Example usage:\n",
        "sample_dict = {'A': 30, 'B': 10, 'C': 20}\n",
        "result = sort_dict_by_values(sample_dict)\n",
        "print(\"Dictionary sorted by values:\", result)\n"
      ],
      "metadata": {
        "id": "_0cAum4gx45l"
      },
      "execution_count": null,
      "outputs": []
    },
    {
      "cell_type": "code",
      "source": [
        "# 5.\tWays to sort list of dictionaries by values in Python – Using lambda function\n",
        "def sort_dict_by_values_lambda(dictionary):\n",
        "    sorted_dict = dict(sorted(dictionary.items(), key=lambda item: item[1]))\n",
        "    return sorted_dict\n",
        "\n",
        "# Example usage:\n",
        "sample_dict = {'A': 30, 'B': 10, 'C': 20}\n",
        "result = sort_dict_by_values_lambda(sample_dict)\n",
        "print(\"Dictionary sorted by values (using lambda):\", result)\n"
      ],
      "metadata": {
        "id": "U0Pt0qJ-x5vE"
      },
      "execution_count": null,
      "outputs": []
    },
    {
      "cell_type": "code",
      "source": [
        "# 6.\tPython | Merging two Dictionaries\n",
        "def merge_two_dicts(dict1, dict2):\n",
        "    merged_dict = {**dict1, **dict2}\n",
        "    return merged_dict\n",
        "\n",
        "# Example usage:\n",
        "dict1 = {'A': 10, 'B': 20}\n",
        "dict2 = {'C': 30, 'D': 40}\n",
        "result = merge_two_dicts(dict1, dict2)\n",
        "print(\"Merged dictionary:\", result)\n"
      ],
      "metadata": {
        "id": "TjoUHEHJx6EN"
      },
      "execution_count": null,
      "outputs": []
    },
    {
      "cell_type": "code",
      "source": [
        "# 7.\tPython – Convert key-values list to flat dictionary\n",
        "def convert_to_flat_dict(key_value_list):\n",
        "    flat_dict = dict(key_value_list)\n",
        "    return flat_dict\n",
        "\n",
        "# Example usage:\n",
        "key_value_list = [('A', 10), ('B', 20), ('C', 30)]\n",
        "result = convert_to_flat_dict(key_value_list)\n",
        "print(\"Flat dictionary from key-values list:\", result)\n"
      ],
      "metadata": {
        "id": "ilHVaX0hx6Y1"
      },
      "execution_count": null,
      "outputs": []
    },
    {
      "cell_type": "code",
      "source": [
        "# 8.\tPython – Insertion at the beginning in OrderedDict\n",
        "from collections import OrderedDict\n",
        "\n",
        "def insert_at_beginning(od, key, value):\n",
        "    od.move_to_end(key, last=False)\n",
        "    od[key] = value\n",
        "    return od\n",
        "\n",
        "# Example usage:\n",
        "ordered_dict = OrderedDict({'A': 10, 'B': 20, 'C': 30})\n",
        "result = insert_at_beginning(ordered_dict, 'D', 40)\n",
        "print(\"OrderedDict after inserting at the beginning:\", result)\n"
      ],
      "metadata": {
        "id": "ddkzq3pux6rd"
      },
      "execution_count": null,
      "outputs": []
    },
    {
      "cell_type": "code",
      "source": [
        "# 9.\tPython | Check order of character in string using OrderedDict( )\n",
        "from collections import OrderedDict\n",
        "\n",
        "def check_order(s, pattern):\n",
        "    od = OrderedDict.fromkeys(s)\n",
        "    return ''.join(od.keys()).find(pattern) != -1\n",
        "\n",
        "# Example usage:\n",
        "result = check_order(\"Python is amazing\", \"is\")\n",
        "print(\"Does the string follow the order:\", result)\n"
      ],
      "metadata": {
        "id": "M4DuF-BDx6-N"
      },
      "execution_count": null,
      "outputs": []
    },
    {
      "cell_type": "code",
      "source": [
        "# 10.\tDictionary and counter in Python to find winner of election\n",
        "from collections import Counter\n",
        "\n",
        "def election_winner(votes):\n",
        "    counter = Counter(votes)\n",
        "    max_votes = max(counter.values())\n",
        "    winners = [candidate for candidate, votes in counter.items() if votes == max_votes]\n",
        "    return winners\n",
        "\n",
        "# Example usage:\n",
        "result = election_winner(['A', 'B', 'A', 'C', 'B', 'A'])\n",
        "print(\"Winner(s) of the election:\", result)\n"
      ],
      "metadata": {
        "id": "nTMw62kQyDVk"
      },
      "execution_count": null,
      "outputs": []
    },
    {
      "cell_type": "code",
      "source": [
        "# 11.\tPython – Append Dictionary Keys and Values ( In order ) in dictionary\n",
        "def append_keys_and_values(dict1, dict2):\n",
        "    result_dict = {}\n",
        "    for key, value in zip(dict1.keys(), dict2.values()):\n",
        "        result_dict[key] = value\n",
        "    return result_dict\n",
        "\n",
        "# Example usage:\n",
        "dict1 = {'A': 10, 'B': 20, 'C': 30}\n",
        "dict2 = {'X': 40, 'Y': 50, 'Z': 60}\n",
        "result = append_keys_and_values(dict1, dict2)\n",
        "print(\"Dictionary after appending keys and values:\", result)\n"
      ],
      "metadata": {
        "id": "U6SU8M3ex7hV"
      },
      "execution_count": null,
      "outputs": []
    },
    {
      "cell_type": "code",
      "source": [
        "# 12.\tPython | Sort Python Dictionaries by Key or Value\n",
        "def sort_dict_by_key(dictionary):\n",
        "    return dict(sorted(dictionary.items()))\n",
        "\n",
        "def sort_dict_by_value(dictionary):\n",
        "    return dict(sorted(dictionary.items(), key=lambda item: item[1]))\n",
        "\n",
        "# Example usage:\n",
        "sample_dict = {'B': 20, 'C': 10, 'A': 30}\n",
        "result_by_key = sort_dict_by_key(sample_dict)\n",
        "result_by_value = sort_dict_by_value(sample_dict)\n",
        "print(\"Dictionary sorted by key:\", result_by_key)\n",
        "print(\"Dictionary sorted by value:\", result_by_value)\n"
      ],
      "metadata": {
        "id": "o1mWIES3x7x0"
      },
      "execution_count": null,
      "outputs": []
    },
    {
      "cell_type": "code",
      "source": [
        "# 13.\tPython – Sort Dictionary key and values List\n",
        "def sort_dict_keys_and_values(dictionary):\n",
        "    sorted_keys = sorted(dictionary.keys())\n",
        "    sorted_values = [dictionary[key] for key in sorted_keys]\n",
        "    return sorted_keys, sorted_values\n",
        "\n",
        "# Example usage:\n",
        "sample_dict = {'B': 20, 'C': 10, 'A': 30}\n",
        "result_keys, result_values = sort_dict_keys_and_values(sample_dict)\n",
        "print(\"Sorted keys:\", result_keys)\n",
        "print(\"Corresponding values:\", result_values)\n"
      ],
      "metadata": {
        "id": "OnGAy-Xpx8B8"
      },
      "execution_count": null,
      "outputs": []
    },
    {
      "cell_type": "code",
      "source": [
        "# 14.\tHandling missing keys in Python dictionaries\n",
        "def handle_missing_keys(dictionary, key, default_value):\n",
        "    return dictionary.get(key, default_value)\n",
        "\n",
        "# Example usage:\n",
        "sample_dict = {'A': 10, 'B': 20, 'C': 30}\n",
        "key_to_check = 'D'\n",
        "result = handle_missing_keys(sample_dict, key_to_check, 0)\n",
        "print(f\"Value for key '{key_to_check}':\", result)\n"
      ],
      "metadata": {
        "id": "qTwbm8J9x8Sk"
      },
      "execution_count": null,
      "outputs": []
    },
    {
      "cell_type": "code",
      "source": [
        "# 15.\tPython dictionary with keys having multiple inputs\n",
        "def create_dict_with_multiple_inputs(keys, values):\n",
        "    return dict(zip(keys, values))\n",
        "\n",
        "# Example usage:\n",
        "keys_list = ['Name', 'Age', 'Country']\n",
        "values_list = ['John', 25, 'USA']\n",
        "result = create_dict_with_multiple_inputs(keys_list, values_list)\n",
        "print(\"Dictionary with multiple inputs:\", result)\n"
      ],
      "metadata": {
        "id": "eQrEJKTqx8kF"
      },
      "execution_count": null,
      "outputs": []
    },
    {
      "cell_type": "code",
      "source": [
        "# 16.\tPrint anagrams together in Python using List and Dictionary\n",
        "def group_anagrams(words):\n",
        "    anagram_dict = {}\n",
        "    for word in words:\n",
        "        sorted_word = ''.join(sorted(word))\n",
        "        anagram_dict.setdefault(sorted_word, []).append(word)\n",
        "    return list(anagram_dict.values())\n",
        "\n",
        "# Example usage:\n",
        "word_list = ['listen', 'silent', 'enlist', 'hello', 'world']\n",
        "result = group_anagrams(word_list)\n",
        "print(\"Anagrams grouped together:\", result)\n"
      ],
      "metadata": {
        "id": "puLj3Nx_x9Ds"
      },
      "execution_count": null,
      "outputs": []
    },
    {
      "cell_type": "code",
      "source": [
        "# 17.\tK’th Non-repeating Character in Python using List Comprehension and OrderedDict\n",
        "from collections import OrderedDict\n",
        "\n",
        "def kth_non_repeating_character(s, k):\n",
        "    char_count = OrderedDict.fromkeys(s, 0)\n",
        "    for char in s:\n",
        "        char_count[char] += 1\n",
        "    non_repeating_chars = [char for char, count in char_count.items() if count == 1]\n",
        "    return non_repeating_chars[k-1] if k <= len(non_repeating_chars) else None\n",
        "\n",
        "# Example usage:\n",
        "result = kth_non_repeating_character(\"programming\", 2)\n",
        "print(\"2nd non-repeating character:\", result)\n"
      ],
      "metadata": {
        "id": "md38-3-DWH0Q"
      },
      "execution_count": null,
      "outputs": []
    },
    {
      "cell_type": "code",
      "source": [
        "# 18.\tCheck if binary representations of two numbers are anagram\n",
        "def are_binary_anagrams(num1, num2):\n",
        "    binary_str1 = bin(num1)[2:]\n",
        "    binary_str2 = bin(num2)[2:]\n",
        "    return sorted(binary_str1) == sorted(binary_str2)\n",
        "\n",
        "# Example usage:\n",
        "result = are_binary_anagrams(9, 6)\n",
        "print(\"Are the binary representations anagrams:\", result)\n"
      ],
      "metadata": {
        "id": "g2cDsy-vx9xV"
      },
      "execution_count": null,
      "outputs": []
    },
    {
      "cell_type": "code",
      "source": [
        "# 19.\tPython Counter to find the size of largest subset of anagram words\n",
        "from collections import Counter\n",
        "\n",
        "def largest_anagram_subset(words):\n",
        "    anagram_counter = Counter(''.join(sorted(word)) for word in words)\n",
        "    return max(anagram_counter.values(), default=0)\n",
        "\n",
        "# Example usage:\n",
        "word_list = ['listen', 'silent', 'enlist', 'hello', 'world']\n",
        "result = largest_anagram_subset(word_list)\n",
        "print(\"Size of the largest anagram subset:\", result)\n"
      ],
      "metadata": {
        "id": "dAjGLBIFx-Cl"
      },
      "execution_count": null,
      "outputs": []
    },
    {
      "cell_type": "code",
      "source": [
        "# 20.\tPython | Remove all duplicates words from a given sentence\n",
        "def remove_duplicate_words(sentence):\n",
        "    words = sentence.split()\n",
        "    unique_words = list(set(words))\n",
        "    return ' '.join(unique_words)\n",
        "\n",
        "# Example usage:\n",
        "result = remove_duplicate_words(\"Python is great and Python is versatile\")\n",
        "print(\"Sentence after removing duplicate words:\", result)\n"
      ],
      "metadata": {
        "id": "DKmS7ApKx-U9"
      },
      "execution_count": null,
      "outputs": []
    },
    {
      "cell_type": "code",
      "source": [
        "# 21.\tPython Dictionary to find mirror characters in a string\n",
        "def find_mirror_characters(s):\n",
        "    mirror_dict = {'p': 'q', 'q': 'p', 'b': 'd', 'd': 'b'}\n",
        "    mirrored_chars = [mirror_dict[char] for char in s[::-1] if char in mirror_dict]\n",
        "    return ''.join(mirrored_chars)\n",
        "\n",
        "# Example usage:\n",
        "result = find_mirror_characters(\"pqbd\")\n",
        "print(\"Mirror characters in the string:\", result)\n"
      ],
      "metadata": {
        "id": "BnwVPCtOx-l0"
      },
      "execution_count": null,
      "outputs": []
    },
    {
      "cell_type": "code",
      "source": [
        "# 22.\tCounting the frequencies in a list using dictionary in Python\n",
        "def count_frequencies(input_list):\n",
        "    frequency_dict = {}\n",
        "    for item in input_list:\n",
        "        frequency_dict[item] = frequency_dict.get(item, 0) + 1\n",
        "    return frequency_dict\n",
        "\n",
        "# Example usage:\n",
        "input_list = [1, 2, 2, 3, 1, 4, 2, 5, 3]\n",
        "result = count_frequencies(input_list)\n",
        "print(\"Frequencies in the list:\", result)\n"
      ],
      "metadata": {
        "id": "rNZZA8_Zx-3s"
      },
      "execution_count": null,
      "outputs": []
    },
    {
      "cell_type": "code",
      "source": [
        "# 23.\tPython | Convert a list of Tuples into Dictionary\n",
        "def convert_tuples_to_dict(tuple_list):\n",
        "    result_dict = dict(tuple_list)\n",
        "    return result_dict\n",
        "\n",
        "# Example usage:\n",
        "tuple_list = [('A', 10), ('B', 20), ('C', 30)]\n",
        "result = convert_tuples_to_dict(tuple_list)\n",
        "print(\"Dictionary from list of tuples:\", result)\n"
      ],
      "metadata": {
        "id": "6vycYRAbx_H0"
      },
      "execution_count": null,
      "outputs": []
    },
    {
      "cell_type": "code",
      "source": [
        "# 24.\tPython counter and dictionary intersection example (Make a string using deletion and rearrangement)\n",
        "from collections import Counter\n",
        "\n",
        "def can_make_string_from_another(s1, s2):\n",
        "    counter_s1 = Counter(s1)\n",
        "    counter_s2 = Counter(s2)\n",
        "    return all(counter_s2[char] >= count for char, count in counter_s1.items())\n",
        "\n",
        "# Example usage:\n",
        "result = can_make_string_from_another(\"xyz\", \"xyyyyz\")\n",
        "print(\"Can make the string using deletion and rearrangement:\", result)\n"
      ],
      "metadata": {
        "id": "OXpAnUonx_Y1"
      },
      "execution_count": null,
      "outputs": []
    },
    {
      "cell_type": "code",
      "source": [
        "# 25.\tPython dictionary, set and counter to check if frequencies can become same\n",
        "from collections import Counter\n",
        "\n",
        "def can_frequencies_become_same(s):\n",
        "    char_count = Counter(s)\n",
        "    values_set = set(char_count.values())\n",
        "    return len(values_set) == 1 or (len(values_set) == 2 and 1 in values_set)\n",
        "\n",
        "# Example usage:\n",
        "result = can_frequencies_become_same(\"xyyyz\")\n",
        "print(\"Can frequencies become the same:\", result)\n"
      ],
      "metadata": {
        "id": "TrZ6UXZux_91"
      },
      "execution_count": null,
      "outputs": []
    },
    {
      "cell_type": "code",
      "source": [
        "# 26.\tScraping And Finding Ordered Words In A Dictionary using Python\n",
        "def scrape_and_find_ordered_words():\n",
        "    # Assuming you have a dictionary file\n",
        "    with open('dictionary.txt', 'r') as file:\n",
        "        words = [line.strip() for line in file.readlines()]\n",
        "\n",
        "    ordered_words = [word for word in words if ''.join(sorted(word)) == word]\n",
        "    return ordered_words\n",
        "\n",
        "# Example usage:\n",
        "result = scrape_and_find_ordered_words()\n",
        "print(\"Ordered words in the dictionary:\", result)\n"
      ],
      "metadata": {
        "id": "sLyg7031yAQM"
      },
      "execution_count": null,
      "outputs": []
    },
    {
      "cell_type": "code",
      "source": [
        "# 27.\tPossible Words using given characters in Python\n",
        "from itertools import permutations\n",
        "\n",
        "def possible_words_using_characters(chars):\n",
        "    word_permutations = [''.join(perm) for perm in permutations(chars)]\n",
        "    return word_permutations\n",
        "\n",
        "# Example usage:\n",
        "characters = ['a', 'b', 'c']\n",
        "result = possible_words_using_characters(characters)\n",
        "print(\"Possible words using given characters:\", result)\n"
      ],
      "metadata": {
        "id": "Am7UhyOiyAiM"
      },
      "execution_count": null,
      "outputs": []
    },
    {
      "cell_type": "code",
      "source": [
        "# 28.\tPython – Keys associated with Values in Dictionary\n",
        "def keys_associated_with_values(dictionary, target_value):\n",
        "    keys_list = [key for key, value in dictionary.items() if value == target_value]\n",
        "    return keys_list\n",
        "\n",
        "# Example usage:\n",
        "sample_dict = {'A': 10, 'B': 20, 'C': 30, 'D': 20}\n",
        "target_value = 20\n",
        "result = keys_associated_with_values(sample_dict, target_value)\n",
        "print(f\"Keys associated with value {target_value}:\", result)\n"
      ],
      "metadata": {
        "id": "J6_AqhlyyA0E"
      },
      "execution_count": null,
      "outputs": []
    },
    {
      "cell_type": "markdown",
      "source": [
        "# Tuple Programs"
      ],
      "metadata": {
        "id": "ybR9CVCcyGz4"
      }
    },
    {
      "cell_type": "code",
      "source": [
        "# 1.\tPython program to Find the size of a Tuple\n",
        "def tuple_size(tup):\n",
        "    return len(tup)\n",
        "\n",
        "my_tuple = (1, 2, 3, 4, 5)\n",
        "print(\"Size of the tuple:\", tuple_size(my_tuple))"
      ],
      "metadata": {
        "id": "n5OVb9g7yMgW"
      },
      "execution_count": null,
      "outputs": []
    },
    {
      "cell_type": "code",
      "source": [
        "# 2.\tPython – Maximum and Minimum K elements in Tuple\n",
        "def max_min_k_elements(tup, k):\n",
        "    return (sorted(tup)[:k], sorted(tup, reverse=True)[:k])\n",
        "\n",
        "my_tuple = (4, 7, 1, 9, 3, 5)\n",
        "k = 3\n",
        "print(\"Maximum and Minimum\", k, \"elements in the tuple:\", max_min_k_elements(my_tuple, k))"
      ],
      "metadata": {
        "id": "NkVa-uGCyVKF"
      },
      "execution_count": null,
      "outputs": []
    },
    {
      "cell_type": "code",
      "source": [
        "# 3.\tCreate a list of tuples from given list having number and its cube in each tuple\n",
        "def number_cube_tuples(lst):\n",
        "    return [(x, x**3) for x in lst]\n",
        "\n",
        "my_list = [1, 2, 3, 4, 5]\n",
        "print(\"List of tuples with number and its cube:\", number_cube_tuples(my_list))"
      ],
      "metadata": {
        "id": "m6zGS0wZyVq1"
      },
      "execution_count": null,
      "outputs": []
    },
    {
      "cell_type": "code",
      "source": [
        "# 4.\tPython – Adding Tuple to List and vice – versa\n",
        "my_list = [(1, 2), (3, 4), (5, 6)]\n",
        "my_tuple = (7, 8)\n",
        "\n",
        "# Adding tuple to list\n",
        "my_list.append(my_tuple)\n",
        "print(\"List after adding tuple:\", my_list)\n",
        "\n",
        "# Converting list to tuple\n",
        "my_tuple_list = tuple(my_list)\n",
        "print(\"Tuple converted from list:\", my_tuple_list)"
      ],
      "metadata": {
        "id": "8MffFzF-yV_U"
      },
      "execution_count": null,
      "outputs": []
    },
    {
      "cell_type": "code",
      "source": [
        "# 5.\tPython – Closest Pair to Kth index element in Tuple\n",
        "def closest_pair_to_k(tup, k):\n",
        "    return sorted(tup, key=lambda x: abs(x - tup[k]))[:2]\n",
        "\n",
        "my_tuple = (1, 3, 5, 7, 9)\n",
        "k = 2\n",
        "print(\"Closest pair to\", k, \"index element:\", closest_pair_to_k(my_tuple, k))"
      ],
      "metadata": {
        "id": "PQRDaN0EyWQ1"
      },
      "execution_count": null,
      "outputs": []
    },
    {
      "cell_type": "code",
      "source": [
        "# 6.\tPython – Join Tuples if similar initial element\n",
        "def join_tuples(tuples_list):\n",
        "    result = []\n",
        "    temp = ()\n",
        "    for tup in tuples_list:\n",
        "        if not temp or temp[0] == tup[0]:\n",
        "            temp += tup\n",
        "        else:\n",
        "            result.append(temp)\n",
        "            temp = tup\n",
        "    result.append(temp)\n",
        "    return result\n",
        "\n",
        "my_tuples = [(1, 2), (1, 3), (2, 4), (3, 5), (3, 6)]\n",
        "print(\"Joined Tuples:\", join_tuples(my_tuples))\n"
      ],
      "metadata": {
        "id": "8AKJWSDryWid"
      },
      "execution_count": null,
      "outputs": []
    },
    {
      "cell_type": "code",
      "source": [
        "# 7.\tPython – Extract digits from Tuple list\n",
        "def extract_digits(tup_list):\n",
        "    return [int(digit) for tup in tup_list for digit in str(tup) if digit.isdigit()]\n",
        "\n",
        "my_tuples = [(12, 34), (45, 67), (89, 10)]\n",
        "print(\"Extracted digits from tuple list:\", extract_digits(my_tuples))"
      ],
      "metadata": {
        "id": "YYIdXdaSyWzt"
      },
      "execution_count": null,
      "outputs": []
    },
    {
      "cell_type": "code",
      "source": [
        "# 8.\tPython – All pair combinations of 2 tuples\n",
        "from itertools import product\n",
        "\n",
        "def tuple_combinations(tup1, tup2):\n",
        "    return list(product(tup1, tup2))\n",
        "\n",
        "tuple1 = (1, 2)\n",
        "tuple2 = (3, 4)\n",
        "print(\"All pair combinations of 2 tuples:\", tuple_combinations(tuple1, tuple2))"
      ],
      "metadata": {
        "id": "ySvc0ZoIyXDs"
      },
      "execution_count": null,
      "outputs": []
    },
    {
      "cell_type": "code",
      "source": [
        "# 9.\tPython – Remove Tuples of Length K\n",
        "def remove_tuples_of_length_k(tup_list, k):\n",
        "    return [tup for tup in tup_list if len(tup) != k]\n",
        "\n",
        "my_tuples = [(1, 2), (3, 4, 5), (6,), (7, 8, 9)]\n",
        "k = 2\n",
        "print(\"Tuples after removing length\", k, \":\", remove_tuples_of_length_k(my_tuples, k))"
      ],
      "metadata": {
        "id": "4Upv_PAtyXUt"
      },
      "execution_count": null,
      "outputs": []
    },
    {
      "cell_type": "code",
      "source": [
        "# 10.\tSort a list of tuples by second Item\n",
        "my_list = [(2, 5), (1, 3), (4, 7), (3, 2)]\n",
        "sorted_list = sorted(my_list, key=lambda x: x[1])\n",
        "print(\"Sorted list of tuples by second item:\", sorted_list)"
      ],
      "metadata": {
        "id": "7ZWYVK8tyXlt"
      },
      "execution_count": null,
      "outputs": []
    },
    {
      "cell_type": "code",
      "source": [
        "# 11.\tPython program to Order Tuples using external List\n",
        "my_list = [(1, 'a'), (2, 'b'), (3, 'c')]\n",
        "order = [2, 0, 1]\n",
        "ordered_list = [my_list[i] for i in order]\n",
        "print(\"Ordered list of tuples using external list:\", ordered_list)"
      ],
      "metadata": {
        "id": "NrRQvImMyX2l"
      },
      "execution_count": null,
      "outputs": []
    },
    {
      "cell_type": "code",
      "source": [
        "# 12.\tPython – Flatten tuple of List to tuple\n",
        "def flatten_tuple_list(tuple_list):\n",
        "    return tuple(item for sublist in tuple_list for item in sublist)\n",
        "\n",
        "my_tuple_list = [(1, 2), (3, 4), (5, 6)]\n",
        "print(\"Flattened tuple:\", flatten_tuple_list(my_tuple_list))"
      ],
      "metadata": {
        "id": "l6Gk1e5HyYHc"
      },
      "execution_count": null,
      "outputs": []
    },
    {
      "cell_type": "code",
      "source": [
        "# 13.\tPython – Convert Nested Tuple to Custom Key Dictionary\n",
        "def nested_tuple_to_dict(nested_tuple):\n",
        "    return {tup[0]: tup[1] for tup in nested_tuple}\n",
        "\n",
        "my_nested_tuple = (('a', 1), ('b', 2), ('c', 3))\n",
        "print(\"Dictionary from nested tuple:\", nested_tuple_to_dict(my_nested_tuple))"
      ],
      "metadata": {
        "id": "Rmm3Uvg3yYX0"
      },
      "execution_count": null,
      "outputs": []
    }
  ]
}